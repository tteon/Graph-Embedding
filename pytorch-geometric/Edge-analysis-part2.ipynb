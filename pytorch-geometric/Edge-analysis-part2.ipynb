{
 "cells": [
  {
   "cell_type": "code",
   "execution_count": null,
   "id": "06db1c67",
   "metadata": {},
   "outputs": [],
   "source": [
    "# we are going to load a dataset from scratch, implementing it as an 'InMemoryDataset'"
   ]
  },
  {
   "cell_type": "markdown",
   "id": "455842cb",
   "metadata": {},
   "source": [
    "# Load a new dataset"
   ]
  },
  {
   "cell_type": "code",
   "execution_count": null,
   "id": "ee7a9f05",
   "metadata": {},
   "outputs": [],
   "source": []
  },
  {
   "cell_type": "code",
   "execution_count": 33,
   "id": "6337cd3e",
   "metadata": {},
   "outputs": [],
   "source": [
    "import torch\n",
    "import os\n",
    "import pandas as pd\n",
    "from torch_geometric.data import InMemoryDataset, Data, download_url, extract_zip\n",
    "from torch_geometric.utils.convert import to_networkx\n",
    "import networkx as nx\n",
    "from tqdm import tqdm\n",
    "import matplotlib.pyplot as plt\n",
    "import glob"
   ]
  },
  {
   "cell_type": "code",
   "execution_count": null,
   "id": "ed7634fc",
   "metadata": {},
   "outputs": [],
   "source": []
  },
  {
   "cell_type": "code",
   "execution_count": 36,
   "id": "b2ef9495",
   "metadata": {},
   "outputs": [],
   "source": [
    "raw_dir = 'dataset/'"
   ]
  },
  {
   "cell_type": "code",
   "execution_count": 45,
   "id": "f5ff1dbc",
   "metadata": {},
   "outputs": [],
   "source": [
    "datalist = glob.glob(raw_dir + 'FRANK*')"
   ]
  },
  {
   "cell_type": "code",
   "execution_count": 46,
   "id": "891d11ae",
   "metadata": {},
   "outputs": [
    {
     "data": {
      "text/plain": [
       "['dataset/FRANKENSTEIN.zip',\n",
       " 'dataset/FRANKENSTEIN.edges',\n",
       " 'dataset/FRANKENSTEIN.graph_idx',\n",
       " 'dataset/FRANKENSTEIN.graph_labels',\n",
       " 'dataset/FRANKENSTEIN.node_attrs',\n",
       " 'dataset/FRANKENSTEIN.readme']"
      ]
     },
     "execution_count": 46,
     "metadata": {},
     "output_type": "execute_result"
    }
   ],
   "source": [
    "datalist"
   ]
  },
  {
   "cell_type": "code",
   "execution_count": 59,
   "id": "81d1a404",
   "metadata": {},
   "outputs": [],
   "source": [
    "for i,data in enumerate(datalist):\n",
    "    if data.endswith('attrs'):\n",
    "        node_attrs = pd.read_csv(datalist[i])\n",
    "        node_attrs.index += 1\n",
    "        \n",
    "    elif data.endswith('edges'):\n",
    "        edge_index = pd.read_csv(datalist[i], sep=',', names=['source', 'target'])\n",
    "        edge_index.index += 1\n",
    "        \n",
    "    elif data.endswith('idx'):\n",
    "        graph_idx = pd.read_csv(datalist[i], sep=',', names=['idx'])\n",
    "        graph_idx.index += 1\n",
    "        \n",
    "    elif data.endswith('labels'):\n",
    "        graph_labels = pd.read_csv(datalist[i], sep=',', names=['label'])\n",
    "        graph_labels.index += 1\n",
    "        \n",
    "    else:\n",
    "        pass"
   ]
  },
  {
   "cell_type": "code",
   "execution_count": null,
   "id": "d95f98d7",
   "metadata": {},
   "outputs": [],
   "source": []
  },
  {
   "cell_type": "code",
   "execution_count": 63,
   "id": "fbfc9262",
   "metadata": {},
   "outputs": [],
   "source": [
    "g_idx = 2345\n",
    "\n",
    "node_ids = graph_idx.loc[graph_idx['idx']==g_idx].index\n",
    "\n",
    "# node features\n",
    "attributes = node_attrs.loc[node_ids, :]\n",
    "\n",
    "# edges info\n",
    "edges = edge_index.loc[edge_index['source'].isin(node_ids)]\n",
    "edges_ids = edges.index\n",
    "\n",
    "# graph label\n",
    "label = graph_labels.loc[g_idx]"
   ]
  },
  {
   "cell_type": "code",
   "execution_count": null,
   "id": "a4ddc912",
   "metadata": {},
   "outputs": [],
   "source": []
  },
  {
   "cell_type": "code",
   "execution_count": 69,
   "id": "73d39310",
   "metadata": {},
   "outputs": [
    {
     "name": "stdout",
     "output_type": "stream",
     "text": [
      "Nodes: (18,)\n",
      "Attributes: (18, 780)\n",
      "Edges: (38, 2)\n",
      "Label: (1,)\n"
     ]
    }
   ],
   "source": [
    "print(f'Nodes: {node_ids.shape}')\n",
    "print(f'Attributes: {attributes.shape}')\n",
    "print(f'Edges: {edges.shape}')\n",
    "print(f'Label: {label.shape}')"
   ]
  },
  {
   "cell_type": "code",
   "execution_count": null,
   "id": "ec5ea67f",
   "metadata": {},
   "outputs": [],
   "source": []
  },
  {
   "cell_type": "markdown",
   "id": "95aab1d1",
   "metadata": {},
   "source": [
    "At this stage the indices in the 'edges' variable are not normalized for the single graph, e.g. they do not start from 0"
   ]
  },
  {
   "cell_type": "code",
   "execution_count": 70,
   "id": "ef6b0d53",
   "metadata": {},
   "outputs": [],
   "source": [
    "edge_idx = torch.tensor(edges.to_numpy().transpose(), dtype=torch.long)\n",
    "map_dict = {v.item():i for i,v in enumerate(torch.unique(edge_idx))}\n",
    "map_edge = torch.zeros_like(edge_idx)\n",
    "for k,v in map_dict.items():\n",
    "    map_edge[edge_idx==k] = v"
   ]
  },
  {
   "cell_type": "code",
   "execution_count": 77,
   "id": "0bc08632",
   "metadata": {},
   "outputs": [
    {
     "data": {
      "text/plain": [
       "({38571: 0,\n",
       "  38572: 1,\n",
       "  38573: 2,\n",
       "  38574: 3,\n",
       "  38575: 4,\n",
       "  38576: 5,\n",
       "  38577: 6,\n",
       "  38578: 7,\n",
       "  38579: 8,\n",
       "  38580: 9,\n",
       "  38581: 10,\n",
       "  38582: 11,\n",
       "  38583: 12,\n",
       "  38584: 13,\n",
       "  38585: 14,\n",
       "  38586: 15,\n",
       "  38587: 16,\n",
       "  38588: 17},\n",
       " tensor([[ 0,  1,  0,  2,  0,  3,  1,  4,  1,  5,  2,  6,  3,  7,  4,  8,  4,  9,\n",
       "           6, 10,  7, 10, 10, 11, 11, 12, 12, 13, 12, 14, 13, 15, 14, 16, 15, 17,\n",
       "          16, 17],\n",
       "         [ 1,  0,  2,  0,  3,  0,  4,  1,  5,  1,  6,  2,  7,  3,  8,  4,  9,  4,\n",
       "          10,  6, 10,  7, 11, 10, 12, 11, 13, 12, 14, 12, 15, 13, 16, 14, 17, 15,\n",
       "          17, 16]]),\n",
       " torch.Size([2, 38]))"
      ]
     },
     "execution_count": 77,
     "metadata": {},
     "output_type": "execute_result"
    }
   ],
   "source": [
    "map_dict, map_edge, map_edge.shape"
   ]
  },
  {
   "cell_type": "code",
   "execution_count": null,
   "id": "ae3f2ee7",
   "metadata": {},
   "outputs": [],
   "source": []
  },
  {
   "cell_type": "markdown",
   "id": "748363a1",
   "metadata": {},
   "source": [
    "As final step we convert the 'DataFrames' to torch tensors. The node features are bascially MNIST images, therefore their size should be 784(28x28), but for some reason the files provide vectors of length 780. to adjust this,we simply add a padding of 4 zeros at the end of the vector "
   ]
  },
  {
   "cell_type": "code",
   "execution_count": 79,
   "id": "7a28d4b7",
   "metadata": {},
   "outputs": [],
   "source": [
    "attrs = torch.tensor(attributes.to_numpy(), dtype=torch.long)\n",
    "pad = torch.zeros((attrs.shape[0], 4), dtype=torch.float)\n",
    "x = torch.cat((attrs, pad), dim=-1)\n",
    "\n",
    "edge_idx = map_edge.long()\n",
    "np_lab = label.to_numpy()\n",
    "y = torch.tensor(np_lab if np_lab[0] == 1 else [0], dtype=torch.long)"
   ]
  },
  {
   "cell_type": "code",
   "execution_count": null,
   "id": "6a6ae954",
   "metadata": {},
   "outputs": [],
   "source": []
  },
  {
   "cell_type": "code",
   "execution_count": 84,
   "id": "d68c28ab",
   "metadata": {},
   "outputs": [],
   "source": [
    "graph = Data(x=x, edge_index=edge_idx, y=y)"
   ]
  },
  {
   "cell_type": "code",
   "execution_count": null,
   "id": "f8b0ff77",
   "metadata": {},
   "outputs": [],
   "source": []
  },
  {
   "cell_type": "code",
   "execution_count": 87,
   "id": "39507a72",
   "metadata": {},
   "outputs": [
    {
     "data": {
      "image/png": "[encoded data removed]",
      "text/plain": [
       "<Figure size 576x576 with 1 Axes>"
      ]
     },
     "metadata": {},
     "output_type": "display_data"
    }
   ],
   "source": [
    "vis = to_networkx(graph)\n",
    "plt.figure(1, figsize=(8,8))\n",
    "nx.draw(vis,\n",
    "       cmap=plt.get_cmap('Set3'),\n",
    "       node_size=70,\n",
    "       linewidths=6)\n",
    "plt.show()"
   ]
  },
  {
   "cell_type": "code",
   "execution_count": null,
   "id": "af11fa93",
   "metadata": {},
   "outputs": [],
   "source": []
  },
  {
   "cell_type": "code",
   "execution_count": 97,
   "id": "36b93d95",
   "metadata": {},
   "outputs": [
    {
     "data": {
      "text/plain": [
       "<matplotlib.image.AxesImage at 0x7f693d2c3f40>"
      ]
     },
     "execution_count": 97,
     "metadata": {},
     "output_type": "execute_result"
    },
    {
     "data": {
      "image/png": "[encoded data removed]",
      "text/plain": [
       "<Figure size 288x288 with 1 Axes>"
      ]
     },
     "metadata": {},
     "output_type": "display_data"
    }
   ],
   "source": [
    "digit = x[10].reshape(28,28)\n",
    "plt.style.use(['dark_background'])\n",
    "plt.matshow(digit, cmap='gray')"
   ]
  },
  {
   "cell_type": "code",
   "execution_count": null,
   "id": "ac652404",
   "metadata": {},
   "outputs": [],
   "source": []
  },
  {
   "cell_type": "markdown",
   "id": "4dbfc6d6",
   "metadata": {},
   "source": [
    "Let's now put the process above into the 'Dataset' class of PyG. Specifically, we are going to create an 'InMemoryDataset'. From the official PyG documentation we see that some methods need to be override."
   ]
  },
  {
   "cell_type": "code",
   "execution_count": null,
   "id": "cd7ba8a1",
   "metadata": {},
   "outputs": [],
   "source": []
  },
  {
   "cell_type": "code",
   "execution_count": null,
   "id": "814a5560",
   "metadata": {},
   "outputs": [],
   "source": [
    "'''\n",
    "dataset class rewriting here 'homework'\n",
    "'''"
   ]
  },
  {
   "cell_type": "code",
   "execution_count": null,
   "id": "0f5ced25",
   "metadata": {},
   "outputs": [],
   "source": []
  },
  {
   "cell_type": "markdown",
   "id": "51c01cba",
   "metadata": {},
   "source": [
    "# Open Graph Benchmark dataset"
   ]
  },
  {
   "cell_type": "code",
   "execution_count": 99,
   "id": "013020da",
   "metadata": {},
   "outputs": [
    {
     "name": "stderr",
     "output_type": "stream",
     "text": [
      "Using backend: pytorch\n"
     ]
    }
   ],
   "source": [
    "from ogb.nodeproppred import PygNodePropPredDataset"
   ]
  },
  {
   "cell_type": "code",
   "execution_count": 101,
   "id": "64e44ec0",
   "metadata": {},
   "outputs": [
    {
     "name": "stdout",
     "output_type": "stream",
     "text": [
      "Downloading http://snap.stanford.edu/ogb/data/nodeproppred/arxiv.zip\n"
     ]
    },
    {
     "name": "stderr",
     "output_type": "stream",
     "text": [
      "Downloaded 0.08 GB: 100%|███████████████████████████████████████████████████████████████████████████| 81/81 [03:50<00:00,  2.84s/it]\n"
     ]
    },
    {
     "name": "stdout",
     "output_type": "stream",
     "text": [
      "Extracting ./dataset/arxiv.zip\n",
      "Processing...\n",
      "Loading necessary files...\n",
      "This might take a while.\n",
      "Processing graphs...\n"
     ]
    },
    {
     "name": "stderr",
     "output_type": "stream",
     "text": [
      "100%|███████████████████████████████████████████████████████████████████████████████████████████████| 1/1 [00:00<00:00, 5607.36it/s]\n"
     ]
    },
    {
     "name": "stdout",
     "output_type": "stream",
     "text": [
      "Converting graphs into PyG objects...\n"
     ]
    },
    {
     "name": "stderr",
     "output_type": "stream",
     "text": [
      "100%|███████████████████████████████████████████████████████████████████████████████████████████████| 1/1 [00:00<00:00, 3869.28it/s]"
     ]
    },
    {
     "name": "stdout",
     "output_type": "stream",
     "text": [
      "Saving...\n"
     ]
    },
    {
     "name": "stderr",
     "output_type": "stream",
     "text": [
      "\n"
     ]
    },
    {
     "name": "stdout",
     "output_type": "stream",
     "text": [
      "Done!\n"
     ]
    }
   ],
   "source": [
    "dataset_name = 'ogbn-arxiv'\n",
    "dataset = PygNodePropPredDataset(name = dataset_name, root='./dataset/')\n",
    "\n",
    "split_idx = dataset.get_idx_split()\n",
    "train_idx, valid_idx, test_idx = split_idx['train'], split_idx['valid'], split_idx['test']\n",
    "graph = dataset[0]"
   ]
  },
  {
   "cell_type": "code",
   "execution_count": 102,
   "id": "b468161a",
   "metadata": {},
   "outputs": [
    {
     "data": {
      "text/plain": [
       "Data(edge_index=[2, 1166243], node_year=[169343, 1], x=[169343, 128], y=[169343, 1])"
      ]
     },
     "execution_count": 102,
     "metadata": {},
     "output_type": "execute_result"
    }
   ],
   "source": [
    "graph"
   ]
  },
  {
   "cell_type": "code",
   "execution_count": null,
   "id": "f8b80d9c",
   "metadata": {},
   "outputs": [],
   "source": []
  },
  {
   "cell_type": "markdown",
   "id": "eb686393",
   "metadata": {},
   "source": [
    "# Benchmarking Graph Neural Networks Datasets"
   ]
  },
  {
   "cell_type": "code",
   "execution_count": 105,
   "id": "33840623",
   "metadata": {},
   "outputs": [
    {
     "data": {
      "text/plain": [
       "['KarateClub',\n",
       " 'TUDataset',\n",
       " 'GNNBenchmarkDataset',\n",
       " 'Planetoid',\n",
       " 'NELL',\n",
       " 'CitationFull',\n",
       " 'CoraFull',\n",
       " 'Coauthor',\n",
       " 'Amazon',\n",
       " 'PPI',\n",
       " 'Reddit',\n",
       " 'Reddit2',\n",
       " 'Flickr',\n",
       " 'Yelp',\n",
       " 'AmazonProducts',\n",
       " 'QM7b',\n",
       " 'QM9',\n",
       " 'ZINC',\n",
       " 'MoleculeNet',\n",
       " 'Entities',\n",
       " 'GEDDataset',\n",
       " 'MNISTSuperpixels',\n",
       " 'FAUST',\n",
       " 'DynamicFAUST',\n",
       " 'ShapeNet',\n",
       " 'ModelNet',\n",
       " 'CoMA',\n",
       " 'SHREC2016',\n",
       " 'TOSCA',\n",
       " 'PCPNetDataset',\n",
       " 'S3DIS',\n",
       " 'GeometricShapes',\n",
       " 'BitcoinOTC',\n",
       " 'ICEWS18',\n",
       " 'GDELT',\n",
       " 'DBP15K',\n",
       " 'WILLOWObjectClass',\n",
       " 'PascalVOCKeypoints',\n",
       " 'PascalPF',\n",
       " 'SNAPDataset',\n",
       " 'SuiteSparseMatrixCollection',\n",
       " 'TrackMLParticleTrackingDataset',\n",
       " 'AMiner',\n",
       " 'WordNet18',\n",
       " 'WordNet18RR',\n",
       " 'WikiCS',\n",
       " 'WebKB',\n",
       " 'WikipediaNetwork',\n",
       " 'Actor',\n",
       " 'JODIEDataset',\n",
       " 'MixHopSyntheticDataset',\n",
       " 'UPFD',\n",
       " 'GitHub',\n",
       " 'FacebookPagePage',\n",
       " 'LastFMAsia',\n",
       " 'DeezerEurope',\n",
       " 'GemsecDeezer',\n",
       " 'Twitch']"
      ]
     },
     "execution_count": 105,
     "metadata": {},
     "output_type": "execute_result"
    }
   ],
   "source": [
    "import torch_geometric.datasets as datasets\n",
    "\n",
    "datasets.__all__"
   ]
  },
  {
   "cell_type": "code",
   "execution_count": 108,
   "id": "9ebcda90",
   "metadata": {},
   "outputs": [
    {
     "data": {
      "text/plain": [
       "['PATTERN', 'CLUSTER', 'MNIST', 'CIFAR10', 'TSP', 'CSL']"
      ]
     },
     "execution_count": 108,
     "metadata": {},
     "output_type": "execute_result"
    }
   ],
   "source": [
    "datasets.GNNBenchmarkDataset.names"
   ]
  },
  {
   "cell_type": "code",
   "execution_count": null,
   "id": "21aca2ca",
   "metadata": {},
   "outputs": [],
   "source": [
    "dataset = datasets.GNNBenchmarkDataset(name='MNIST', root='./dataset')"
   ]
  },
  {
   "cell_type": "code",
   "execution_count": null,
   "id": "3f9e43b2",
   "metadata": {},
   "outputs": [],
   "source": [
    "dataset"
   ]
  },
  {
   "cell_type": "code",
   "execution_count": null,
   "id": "dfbc056a",
   "metadata": {},
   "outputs": [],
   "source": []
  }
 ],
 "metadata": {
  "kernelspec": {
   "display_name": "Python 3 (ipykernel)",
   "language": "python",
   "name": "python3"
  },
  "language_info": {
   "codemirror_mode": {
    "name": "ipython",
    "version": 3
   },
   "file_extension": ".py",
   "mimetype": "text/x-python",
   "name": "python",
   "nbconvert_exporter": "python",
   "pygments_lexer": "ipython3",
   "version": "3.8.11"
  }
 },
 "nbformat": 4,
 "nbformat_minor": 5
}
